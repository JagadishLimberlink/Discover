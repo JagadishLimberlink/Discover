{
 "cells": [
  {
   "cell_type": "markdown",
   "metadata": {},
   "source": [
    "## Problems in Tilings\n"
   ]
  },
  {
   "cell_type": "markdown",
   "metadata": {},
   "source": [
    "### Fractal Triangle\n",
    "\n",
    "Find the value of the following summation. Take a hint from the picture given below.\n",
    "\n",
    "$$\\frac{1}{4} + \\frac{1}{4^2} + \\frac{1}{4^3} + \\cdots \\mbox{upto infinity}$$\n",
    "\n",
    "![](pics/fractal_tiling.jpg)\n",
    "\n",
    "\n"
   ]
  },
  {
   "cell_type": "markdown",
   "metadata": {},
   "source": [
    "### Solution\n",
    "\n",
    "The terms in the summation correspond to the fractions of area the blue triangles cover. Since every color occupies one-third of the triangle (in the limit), the summation evaluates to 1/3.\n"
   ]
  },
  {
   "cell_type": "markdown",
   "metadata": {},
   "source": [
    "### Two tiles\n",
    "\n",
    "A 1x1m board is tiled with two types of tiles: a square and a rectangle. The two tiles are shown in different colors in the figure below. Find the dimensions of the tiles.\n",
    "\n",
    "![](./pics/two_tiling.png)\n",
    "    \n"
   ]
  },
  {
   "cell_type": "markdown",
   "metadata": {},
   "source": [
    "### Solution\n",
    "\n",
    "Let the blue square's dimension be axa and the red tile's wxh. It is easy to see that six blue tiles span the length of the board. So  \n",
    "a=1/6 m. Looking at the left edge of the board, we get 8h+4a = 1. So h=1/24m. Similarly, the bottom edge of the board gives the equation 6w+3a=1, so w=1/12m.\n"
   ]
  },
  {
   "cell_type": "markdown",
   "metadata": {},
   "source": [
    "### Make a grid\n",
    "\n",
    "A T-segment is made by joining a 1 cm wire to a 2 cm wire as shown in Fig (a). Using these segments it is possible to cover an 8x8 grid as shown in Fig (b). The covering is a tiling in the sense that no segments overlap and every line of the grid is covered. Is it possible to tile a 10x10 grid using T-segments?\n",
    "\n",
    "![https://www.brand.site.co.il/riddles/200706q.html](pics/frame_tiling.png)\n",
    "\n"
   ]
  },
  {
   "cell_type": "markdown",
   "metadata": {},
   "source": [
    "### Solution\n",
    "It is not possible to tile a 10x10 grid using T-segments. We prove this via a counting argument. A tiling of an nxn grid needs  $(n+1)\\times n$ horizontal 1 cm wires and same number of vertical wires. A 10x10 grid needs $2\\times 11 \\times 11=242$ unit wires. But 242 is not divisible by 3, hence a whole number of T-segments cannot tile the grid.\n"
   ]
  },
  {
   "cell_type": "markdown",
   "metadata": {
    "collapsed": true
   },
   "source": [
    "\n",
    "### Aztec\n",
    "\n",
    "The board shown on the left is called an Aztec and the tiles shown on the right are called skewed-tetrominoes. Prove that an Aztec cannot be tiled using skewed tetraminoes. The way the board is colored gives a clue.\n",
    "\n",
    "\n",
    "![](pics/aztec.png)\n",
    "\n"
   ]
  },
  {
   "cell_type": "markdown",
   "metadata": {},
   "source": [
    "### Solution\n",
    "\n",
    "Every tetramino covers an odd number of shaded squares. Since there are even number of such squares, a tiling is not possible.\n",
    "\n"
   ]
  },
  {
   "cell_type": "markdown",
   "metadata": {},
   "source": [
    "### Domino tiling\n",
    "\n",
    "Show that it is not possible to tile a 6x6 board using straight tetrominoes i.e. a 1x4 tile. Try to find a coloring proof similar to the previous problem.\n",
    "\n",
    "![](pics/tetromino.png)"
   ]
  },
  {
   "cell_type": "markdown",
   "metadata": {
    "collapsed": true
   },
   "source": [
    "### Solution\n",
    "\n",
    "Consider the coloring of the board as shown below. Any tetromino will cover an even number of shaded cells. But since there are nine shaded cells a tiling is impossible.\n",
    "\n",
    "![](pics/tetromino_sol.png)\n"
   ]
  },
  {
   "cell_type": "markdown",
   "metadata": {},
   "source": [
    "### Can you spot the tile?\n",
    "\n",
    "Intriguing patterns can emerge by tilings of simple structures. Take for example the right-angled tile shown below. The tile has two petals on it. Using this tile and its mirror image we can make a floral pattern by arranging them to form a hexagon. \n",
    "\n",
    "![](pics/basic_tile_2.png)\n",
    "\n",
    "\n",
    "Now imagine looking at the pattern from a distance where the boundaries of the tiles dissappear. The pattern looks like this:\n",
    "\n",
    "![](pics/basic_tile_1.png)\n",
    "\n",
    "\n",
    "Given below are two more patterns constructed from tiles. Can you spot the basic tiles that make up the pattern in both cases? Assume that a tile and its mirror image are the same. If it is possible to get a pattern from two different tiles, pick the one that has smaller area.\n",
    "\n",
    "![](pics/basic_tile_3.png)\n",
    "\n",
    "\n",
    "\n",
    "\n",
    "### Solution\n",
    "\n",
    "The first pattern is made up of equilateral triangles:\n",
    "![](pics/basic_tile_3_sol.png)\n",
    "\n",
    "The second pattern's tile can be obtained by joining the centers of three different colored circles.\n",
    "\n",
    "![](pics/basic_tile_4_sol.png)\n",
    "\n",
    "\n",
    "*Image source:  The symmetry of things by J.Conway, H.Burgiel and G.Heidi.*\n",
    "\n",
    "\n",
    "\n"
   ]
  },
  {
   "cell_type": "markdown",
   "metadata": {},
   "source": [
    "### Fault lines\n",
    "\n",
    "An nxn grid is tiled by dominoes i.e. 2x1 tiles. Prove that it is not possible to draw either a horizontal or a vertical line through the grid that passes through the interior of exactly one domino.\n",
    "\n",
    "\n",
    "For example, in the figure shown on the left the following are true: (a) The horizontal line passing through point A passes through four tiles\n",
    "(b) The vertical line passing through point B passes through two tiles\n",
    "(c) The horizontal line passing through point C passes through zero tiles (d) There is no line that passes through exactly one tile.\n",
    "\n",
    "\n",
    "![](./pics/domino_tiling_panel.jpg)\n",
    "\n",
    "\n"
   ]
  },
  {
   "cell_type": "markdown",
   "metadata": {},
   "source": [
    "### Solution\n",
    "\n",
    "Let T be a domino tiling of an nxn grid. Domino tiling is possible only if n is even. We will prove the main claim by contradiction. Supppose there exists a vertical line PQ which passes through exactly one tile called X. Now consider the region to the left of PQ, except the 1x1 portion of the X tile. Let us call this region R. Since PQ has even length, R has odd number of cells. Since no other tiles cross PQ, R must be tiled by dominoes. But this is not possible since there are odd number of cells in R.  "
   ]
  },
  {
   "cell_type": "markdown",
   "metadata": {},
   "source": [
    "### Tiling by layers\n",
    "\n",
    "A hexagonal tile is modified to have three indentations and two spikes. A spike and an indentation fit each other like jigsaw pieces as shown below. We carry out the following procedure:\n",
    "\n",
    "1. A tile is kept on the plane and surrounded by six copes of itself.\n",
    "2. The region obtained is again surrounded by 12 tiles, which in turn is surrounded by 18 tiles. \n",
    "\n",
    "Upto this point it is possible to tile in such a way that no gaps are left inside the boundary. As seen in the figure below, the tree layers that surround the center tile have no gaps. However, trying to add an other layer introduces gaps. If you enlarge the picture and look closely, the last layer has a few gaps. \n",
    " \n",
    "\n",
    "\n",
    "![](pics/heesch.png)\n",
    "\n",
    "\n",
    "Show that it is not possible to surround the tile with four layers without gaps. \n",
    "\n",
    "\n",
    "*Hint*: Answering the following questions will help you get started:\n",
    "\n",
    "a. How many tiles are there in all?\n",
    "\n",
    "b. What are the total number of indentations and spikes in a four layered region?\n",
    "\n",
    "c. How many edges form the perimeter of the fourth layer?\n",
    "\n",
    "d. What is the maximum indentations that can be present on the perimeter?\n",
    "\n",
    "\n"
   ]
  },
  {
   "cell_type": "markdown",
   "metadata": {},
   "source": [
    "### Solution\n",
    "\n",
    "a. Total number of tiles: 1+6+12+18+24 = 61\n",
    "\n",
    "b. Each tile has three indentations and two spikes. So the number of indentations is 61x3=183 and the number of spikes is 61x2=122.\n",
    "\n",
    "c. The fourth layer has 24 tiles. Six of them contribute three edges to the boundary. The rest of them contribute two edges. So, the perimeter has 6x3+18x2=54 edges.\n",
    "\n",
    "d. Each edge has have at most one indentations, so there can be at most 54 indentations on the boundary.\n",
    "\n",
    "Now it is easy to see why adding four layers introduces gaps. All the indentations that are not on the boundary must be matched by a spike. So the interior of the region has at least 183-54 = 129 identations. But from (b) we know that there are only 122 spikes, so there must be gaps in the tiling.\n",
    "    \n",
    "*Image source: Wikipedia*"
   ]
  },
  {
   "cell_type": "markdown",
   "metadata": {},
   "source": [
    "### Tricky non-tiling\n",
    "\n",
    "Consider the oddly shaped board below. The red cell on the board indicates that the cell is removed. Observe that the board has 16 black and 16 white cells. One might imagine 16 dominos to tile the board. However, this is not possible. Can you explain why?\n",
    "\n",
    "![](./pics/hall.png)\n",
    "\n"
   ]
  },
  {
   "cell_type": "markdown",
   "metadata": {},
   "source": [
    "### Solution\n",
    "\n",
    "Look at the black cells marked with a circle and the white squares marked with a star. Any tile that covers a circled black cell must cover one of the starred white cell. There are six black cells but only five white cells, hence not possible to cover these black cells without an overlap on the white squares. Hence a tiling is impossible.\n",
    "\n",
    "\n",
    "![](pics/hall_sol.png)\n",
    "\n",
    "*Source: Tilings by F. Ardilla and R. Stanley*"
   ]
  },
  {
   "cell_type": "markdown",
   "metadata": {
    "collapsed": true
   },
   "source": [
    "### Nature's tilings\n",
    "\n",
    "Tilings occur naturally in some plants and animals. Match the following eight images to their correct labels.\n",
    "\n",
    "![](pics/match_the_following.png)"
   ]
  },
  {
   "cell_type": "markdown",
   "metadata": {
    "collapsed": true
   },
   "source": [
    "### Solution\n",
    "\n",
    "Correct order of labels: f, h, e, g, b, d, c and a.\n"
   ]
  }
 ],
 "metadata": {
  "kernelspec": {
   "display_name": "Python 2",
   "language": "python",
   "name": "python2"
  },
  "language_info": {
   "codemirror_mode": {
    "name": "ipython",
    "version": 2
   },
   "file_extension": ".py",
   "mimetype": "text/x-python",
   "name": "python",
   "nbconvert_exporter": "python",
   "pygments_lexer": "ipython2",
   "version": "2.7.12"
  }
 },
 "nbformat": 4,
 "nbformat_minor": 1
}
