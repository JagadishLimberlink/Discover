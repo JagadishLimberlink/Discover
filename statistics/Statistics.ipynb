{
 "cells": [
  {
   "cell_type": "markdown",
   "metadata": {
    "collapsed": true
   },
   "source": [
    "### Cassette tape\n",
    "\n",
    "During 1970-1990, the *cassette* was a common format for prerecorded music. It consists of a magnetic tape wound around two identical rotors. The data is stored on the tape. The resulting spools rotate so as to make the tape move at a constant speed. A head (H) reads the data on the tape. Given below are pictures of an actual cassette and a schematic diagram of the same. \n",
    "\n",
    "![](pics/cassette1.jpeg)\n",
    "\n",
    "Consider a cassette which has two rotors each of radius 1 cm. Initially the entire tape is wound around the left rotor. The radius of the resulting spool is 2.5 cm (as shown below). When the casette is played, the tape moves over the head at a constant speed and is wound around the right spool. Sketch the graph that shows the radius of the left spool as a function of time. \n",
    "\n",
    "![](pics/cassette2.jpeg)\n",
    "    \n",
    "\n"
   ]
  },
  {
   "cell_type": "markdown",
   "metadata": {},
   "source": [
    "### Ferris wheel\n",
    "\n",
    "Suppose that a Ferris wheel (or a gaint wheel) rotates at a constant speed of 1 rotation per minute. Consider a car A on the wheel which is at ground-level at time *t*=0. Let *h* denote the height of car A from the ground. So initially, *h*=0. Draw the graph that relates height *h* with time upto *t*=1 min. \n",
    "\n",
    "![](pics/gaint_wheel1.png)"
   ]
  },
  {
   "cell_type": "markdown",
   "metadata": {
    "collapsed": true
   },
   "source": [
    "### College admissions\n",
    "\n",
    "A batch of students apply for admissions in a college. A student can opt either for a science school or an arts school. 100 boys and 100 girls apply to schools of their choice.  80 boys and 50 girls get admitted. Based on this fact a local newspaper announces: \"<b>Boys outperform girls in college admissions</b>\". \n",
    "\n",
    "Do you think this a fair conclusion? Give reasons.\n"
   ]
  },
  {
   "cell_type": "markdown",
   "metadata": {
    "collapsed": true
   },
   "source": [
    "### Mark and recapture\n",
    "\n",
    "An ecologist is on a field trip to a forest. He wants to estimate the population of a particular species of fish in a pond. A common way to do this is called mark-and-recapture method. The basic procedure is as follows:\n",
    "\n",
    "1. Capture a few hundred fish and mark them. For example, in the picture below a yellow tag is attached to the fish. <br>\n",
    "\n",
    "2. Release the marked fish back to the pond and wait for a few days. <br>\n",
    "\n",
    "3. Recapture a few hundred fish again and count how many of them are marked. <br>\n",
    "\n",
    "4. Estimate the population size by looking at the fraction of marked fish on recapture. <br>\n",
    "\n",
    "\n",
    "\n",
    "![](pics/fish_tag.png)\n",
    "\n",
    "\n",
    "Suppose that 100 fish were originally marked and released. After a few days, 300 fish are caught out of which 15 are found to be marked. What is an estimate of the number of fish in the pond?\n"
   ]
  },
  {
   "cell_type": "markdown",
   "metadata": {},
   "source": [
    "### Coffee or tea?\n",
    "\n",
    "<b>Scenario 1</b>. You have invited 20 guests to a party at your place and you're mulling over the preparations.  Among other things, you have to decide how many cups of coffee and tea you need to prepare. Assume that there is an equal preference for both. To ensure that everybody gets the beverage of their choice, you could prepare 20 cups of coffee and 20 cups of tea. However, this will lead to a wastage of 20 cups. How many cups of coffee and tea should you prepare so that you can be _reasonably sure_ that everybody gets the beverage of their choice while also cut down costs?\n",
    "\n",
    "![](pics/coffee_tea.png)\n",
    "\n",
    "\n",
    "<b>Scenario 2</b>. You are an event co-ordinator for a music concert and you expect about 200 members in the audience. You face a similar situation as in the first scenario. How many cups of coffee and tea should you order so that you can be reasonably sure that everybody gets their preference and still save on the budget?\n",
    "\n",
    "\n",
    "Comment on you answers for both the scenarios."
   ]
  },
  {
   "cell_type": "markdown",
   "metadata": {},
   "source": [
    "### Vocabulary size\n",
    "\n"
   ]
  },
  {
   "cell_type": "markdown",
   "metadata": {
    "collapsed": true
   },
   "source": [
    "### Identify the bias\n",
    "\n"
   ]
  },
  {
   "cell_type": "markdown",
   "metadata": {},
   "source": [
    "### Airplane shots\n",
    "This problem is related to an incident that happened during World War II. To avoid getting shot down by enemies, fighter planes are usually armored. The armor consists of bullet-proof casing and adds weight to the aircraft. If there is too little armour the plane risks being shot down. If there too much armour, the aircraft gets bogged down and consumes lot of fuel. The US army was interested in finding the optimal amount of armour to protect their fighter planes. \n",
    "\n",
    "![](pics/aircraft.jpg)\n"
   ]
  },
  {
   "cell_type": "code",
   "execution_count": null,
   "metadata": {
    "collapsed": true
   },
   "outputs": [],
   "source": []
  }
 ],
 "metadata": {
  "kernelspec": {
   "display_name": "Python 2",
   "language": "python",
   "name": "python2"
  },
  "language_info": {
   "codemirror_mode": {
    "name": "ipython",
    "version": 2
   },
   "file_extension": ".py",
   "mimetype": "text/x-python",
   "name": "python",
   "nbconvert_exporter": "python",
   "pygments_lexer": "ipython2",
   "version": "2.7.12"
  }
 },
 "nbformat": 4,
 "nbformat_minor": 1
}
