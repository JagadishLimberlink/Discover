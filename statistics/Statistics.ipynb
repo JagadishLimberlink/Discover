{
 "cells": [
  {
   "cell_type": "markdown",
   "metadata": {
    "collapsed": true
   },
   "source": [
    "### Cassette tape\n",
    "\n",
    "![](pics/cassette1.jpeg)\n",
    "\n",
    "![](pics/cassette2.jpeg)\n",
    "    \n",
    "\n"
   ]
  },
  {
   "cell_type": "markdown",
   "metadata": {},
   "source": [
    "### Ferris wheel\n",
    "\n",
    "![](pics/gaint_wheel1.png)"
   ]
  },
  {
   "cell_type": "markdown",
   "metadata": {
    "collapsed": true
   },
   "source": [
    "### College admissions\n",
    "\n",
    "A batch of students apply for admissions in a college. A student can opt either for a science school or a humanities school. 100 boys and 100 girls apply to schools of their choice.  80 boys and 50 girls get admitted. Based on this fact a local newspaper announces: \"<b>Boys outperform girls in college admissions</b>\". \n",
    "\n",
    "Do you think this a fair conclusion? Give reasons.\n"
   ]
  },
  {
   "cell_type": "markdown",
   "metadata": {
    "collapsed": true
   },
   "source": [
    "### Mark and capture\n",
    "\n",
    "![](pics/snail.png)"
   ]
  },
  {
   "cell_type": "markdown",
   "metadata": {},
   "source": [
    "### Coffee cups\n",
    "\n",
    "![](pics/coffee_tea.png)\n"
   ]
  },
  {
   "cell_type": "markdown",
   "metadata": {},
   "source": [
    "### Vocabulary size\n",
    "\n"
   ]
  },
  {
   "cell_type": "markdown",
   "metadata": {
    "collapsed": true
   },
   "source": [
    "### Identify the bias\n",
    "\n"
   ]
  },
  {
   "cell_type": "markdown",
   "metadata": {},
   "source": [
    "### Airplane shots\n",
    "Abraham Wald's story\n"
   ]
  },
  {
   "cell_type": "code",
   "execution_count": null,
   "metadata": {
    "collapsed": true
   },
   "outputs": [],
   "source": []
  }
 ],
 "metadata": {
  "kernelspec": {
   "display_name": "Python 2",
   "language": "python",
   "name": "python2"
  },
  "language_info": {
   "codemirror_mode": {
    "name": "ipython",
    "version": 2
   },
   "file_extension": ".py",
   "mimetype": "text/x-python",
   "name": "python",
   "nbconvert_exporter": "python",
   "pygments_lexer": "ipython2",
   "version": "2.7.12"
  }
 },
 "nbformat": 4,
 "nbformat_minor": 1
}
