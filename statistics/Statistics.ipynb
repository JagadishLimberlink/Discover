{
 "cells": [
  {
   "cell_type": "markdown",
   "metadata": {
    "collapsed": true
   },
   "source": [
    "### Cassette tape\n",
    "\n",
    "During 1970-1990, the *cassette* was a common format for prerecorded music. It consists of a magnetic tape wound around two identical rotors. The data is stored on the tape. The spools rotate so as to make the tape move at a constant speed. A head (H) reads the data on the tape. Given below are pictures of an actual cassette and a schematic diagram of the same. \n",
    "\n",
    "![](pics/cassette1.jpeg)\n",
    "\n",
    "Consider a cassette which has two rotors each of radius 1 cm. Initially the entire tape is wound around the left rotor. The radius of the resulting spool is 2.5 cm (as shown below). When the casette is played, the tape moves over the head H at a constant speed and is wound around the right spool. Sketch the graph that shows the radius of the left spool as a function of time. Assume that the tape lasts 30 mins.\n",
    "\n",
    "![](pics/cassette2.jpeg)\n",
    "    \n",
    "\n"
   ]
  },
  {
   "cell_type": "markdown",
   "metadata": {},
   "source": [
    "### Solution\n",
    "\n",
    "The radius starts at 2.5 cm at t=0 min and ends at 1 cm at t=30 min. As the radius of the spool gets smaller more number of turns are unwound per time step. Hence, the radius falls more rapidly as the radius gets smaller.\n",
    "\n",
    "![](./pics/tape_record_graph.png)\n",
    "    \n",
    "*Source: Language of functions and graphs by Malcom Swan*\n"
   ]
  },
  {
   "cell_type": "markdown",
   "metadata": {},
   "source": [
    "### Ferris wheel\n",
    "\n",
    "Suppose that a Ferris wheel (or a gaint wheel) rotates at a constant speed of 1 rotation per minute. Consider a car A on the wheel which is at ground-level at time *t*=0. Let *h* denote the height of car A from the ground. So initially, *h*=0. Draw the graph that relates height *h* with time upto *t*=1 min. \n",
    "\n",
    "![](pics/gaint_wheel1.png)"
   ]
  },
  {
   "cell_type": "markdown",
   "metadata": {},
   "source": [
    "### Solution\n",
    "\n",
    "A _sin_ curve."
   ]
  },
  {
   "cell_type": "markdown",
   "metadata": {
    "collapsed": true
   },
   "source": [
    "### College admissions\n",
    "\n",
    "A batch of students apply for admissions in a college. A student can opt either for a science school or an arts school. 100 boys and 100 girls apply to schools of their choice.  80 boys and 50 girls get admitted. Based on this fact a local newspaper announces: \"<b>Boys outperform girls in college admissions</b>\". \n",
    "\n",
    "Do you think this a fair conclusion? Give reasons.\n"
   ]
  },
  {
   "cell_type": "markdown",
   "metadata": {},
   "source": [
    "### Solution\n",
    "\n",
    "The conclusion is unfair without knowing the acceptance rate of each school. It is possible that more girls applied to the school that had lower acceptance rate. For example, consider the scenario given in the table below. The entry *p/q* means *p* students were admitted from *q* students who applied. When seen school-wise, girls have outperformed boys.\n",
    "    \n",
    "    \n",
    "    \n",
    "|  | Science |  Arts |\n",
    "|----|--|---|\n",
    "| Boys | 75/80 | 5/20 |\n",
    "| Girls | 10/10  | 40/90 |\n",
    "\n",
    "\n"
   ]
  },
  {
   "cell_type": "markdown",
   "metadata": {
    "collapsed": true
   },
   "source": [
    "### Mark and recapture\n",
    "\n",
    "An ecologist is on a field trip to a forest. He wants to estimate the population of a particular species of fish in a pond. A common way to do this is called mark-and-recapture method. The basic procedure is as follows:\n",
    "\n",
    "1. Capture a few hundred fish and mark them. For example, in the picture below a yellow tag is attached to the fish. <br>\n",
    "\n",
    "2. Release the marked fish back to the pond and wait for a few days. <br>\n",
    "\n",
    "3. Recapture a few hundred fish again and count how many of them are marked. <br>\n",
    "\n",
    "4. Estimate the population size by looking at the fraction of marked fish on recapture. <br>\n",
    "\n",
    "\n",
    "\n",
    "![](pics/fish_tag.png)\n",
    "\n",
    "\n",
    "Suppose that 100 fish were originally marked and released. After a few days, 300 fish are caught out of which 15 are found to be marked. What is an estimate of the number of fish in the pond?\n"
   ]
  },
  {
   "cell_type": "markdown",
   "metadata": {},
   "source": [
    "### Solution\n",
    "\n",
    "Let the number of fish in the pond be X. We know that 100 of them are marked. Under the assumption that the fraction of marked fish in the sample matches the fraction of marked fish in the population, we have\n",
    "\n",
    "100/X = 15/300. So, X = 2000 is the best estimate we can get.\n"
   ]
  },
  {
   "cell_type": "markdown",
   "metadata": {},
   "source": [
    "### Coffee or tea?\n",
    "\n",
    "<b>Scenario 1</b>. You have invited 20 guests to a party at your place and you're mulling over the preparations.  Among other things, you have to decide how many cups of coffee and tea you need to prepare. Assume that there is an equal preference for both. To ensure that everybody gets the beverage of their choice, you could prepare 20 cups of coffee and 20 cups of tea. However, this will lead to a wastage of 20 cups. How many cups of coffee and tea should you prepare so that you can be _reasonably sure_ that everybody gets the beverage of their choice while also cut down costs?\n",
    "\n",
    "![](pics/coffee_tea.png)\n",
    "\n",
    "\n",
    "<b>Scenario 2</b>. You are an event co-ordinator for a music concert and you expect about 200 members in the audience. You face a similar situation as in the first scenario. How many cups of coffee and tea should you order so that you can be reasonably sure that everybody gets their preference and still save on the budget?\n",
    "\n",
    "\n",
    "Comment on your answers for both the scenarios."
   ]
  },
  {
   "cell_type": "markdown",
   "metadata": {},
   "source": [
    "### Solution\n",
    "\n",
    "In Scenario 1, it is reasonable to order about 15 cups of coffee and tea. In the second event, the number of people are 10-fold. The main thing to realise is that we need not multiply 15 by 10 to ensure the same level of satisfaction as scenario 1. The larger the number the more predictable are the outcomes. For example, we are not too surprised if we get 7 heads and 3 tails when we toss a coin 10 times. But it would be surprising to get 700 heads and 300 tails in 1000 tosses. So a number around 130 seems reasonable in the second scenario.\n",
    "\n",
    "\n",
    "\n"
   ]
  },
  {
   "cell_type": "markdown",
   "metadata": {},
   "source": [
    "### Vocabulary size\n",
    "\n",
    "Project Gutenberg has a catalog of over 50,000 books that are available in public domain. Estimate the average number of words in a book from the catalog.\n",
    "\n",
    "Here are a couple of tools that may help you in the task:\n",
    "\n",
    "1. The page http://www.gutenberg.org/ebooks/ has the option of getting a random collection of books.\n",
    "2. All the books are available in .txt format. You may use any standard text editor to find the number of words in a document.\n",
    "\n",
    "Along with the estimate, explain the steps that you took to arrive at the answer.\n",
    "\n"
   ]
  },
  {
   "cell_type": "markdown",
   "metadata": {},
   "source": [
    "### Solution\n",
    "\n",
    "By sampling 30 books, we got the average number of words to be around 32K. The take home message is that even if the number books are over 50,000, sampling just 40-50 books gives a good estimate. *Note to self: We can get a very good estimate of the true value by combining the answers given by all the students.*\n"
   ]
  },
  {
   "cell_type": "markdown",
   "metadata": {
    "collapsed": true
   },
   "source": [
    "### Identify the bias\n",
    "\n",
    "Imagine picking a random number between 1 to 10 hundred times. One would expect all the ten numbers to be more or less equally represented. Here is an experiment that has been repeated several times with similar results. When a large group of participants are asked to pick a number between 1 to 10, it is observed that the the resulting sample has more number 7s than any other number. Also, few people pick either 1 or 10. This systematic deviation from what is considered random is called _bias_. \n",
    "\n",
    "\n",
    "There is a similar experiment in which participants are asked to write a two-digit number, i.e. numbers from 10 to 99. Can you guess how the resulting sample could be biased?\n",
    "\n",
    "![](./pics/two_digit.jpg)\n",
    "    \n"
   ]
  },
  {
   "cell_type": "markdown",
   "metadata": {},
   "source": [
    "### Solution\n",
    "\n",
    "It is observed that about 3 out of 5 people write the smaller digit on the left. You may try this experiment with a group of friends and verify.\n"
   ]
  },
  {
   "cell_type": "markdown",
   "metadata": {},
   "source": [
    "### Airplane shots\n",
    "This problem is based on an incident that happened during World War II. Fighter planes are always at risk of getting shot down by enemies. To reduce the chances of being destroyed planes are usually armored. The armor consists of bullet-proof shields and adds weight to the aircraft.  If there is too much armor, the aircraft gets bogged down and consumes a lot of fuel. If there is too little, the plane risks being shot down. The US military was interested in finding the optimal amount of armor to protect their fighter planes. \n",
    "\n",
    "The military approached a well-known mathematican named Abraham Wald for advice. They brought some data about the planes that had returned from Europe. All the planes that had returned were covered in bullet holes but the distribution of bullet holes was not uniform. The data showed the density of bullet holes on different parts of the plane:\n",
    "\n",
    "| Section of the plane |  Bullet holes (per sq.ft) |\n",
    "|----|--|\n",
    "| Cockpit | 1.5 | \n",
    "| Fuselage | 1.7  |\n",
    "| Wings | 1.6 |\n",
    "| Engine | 1.1 |\n",
    "\n",
    "\n",
    "![](pics/aircraft.jpg)\n",
    "\n",
    "The military felt that the engine was well-protected and the fuselage was the least protected. They expected Wald to give them the exact amount by which they should increase the armor on the fuselage and reduce on the other parts. But Wald looked at the data and gave them an unexpected answer. He recommended the military to *increase* the armor on the engine and reduce on the fuselage. Can you think of a rationale for this recommendation? \n",
    "\n",
    "\n",
    "\n",
    "\n"
   ]
  },
  {
   "cell_type": "markdown",
   "metadata": {
    "collapsed": true
   },
   "source": [
    "### Solution\n",
    "\n",
    "The data was collected from the planes that returned. What about the planes that did not return? There was no data about that. The fact that the planes returned meant that it could take hits on the fuselage. The planes that had more bullet holes on the engine were not seen because they did not return in the first place. This is why the recommendation was made to protect the engine.\n",
    "\n",
    "Here is an another instance which clarifies the above point. Soldiers who are admitted to hosptials have injuries on their legs or arms and rarely on their chest. Why? It because those who were shot on the chest probably do not survive. The phenomenon has a name and is called 'survivorship bias'. You can spot it in other places too, like in the XKCD comic below:\n",
    "\n",
    "![](https://imgs.xkcd.com/comics/survivorship_bias.png)\n",
    "\n",
    "*Source: How not to be wrong by Jordan Ellenberg*\n"
   ]
  }
 ],
 "metadata": {
  "kernelspec": {
   "display_name": "Python 2",
   "language": "python",
   "name": "python2"
  },
  "language_info": {
   "codemirror_mode": {
    "name": "ipython",
    "version": 2
   },
   "file_extension": ".py",
   "mimetype": "text/x-python",
   "name": "python",
   "nbconvert_exporter": "python",
   "pygments_lexer": "ipython2",
   "version": "2.7.12"
  }
 },
 "nbformat": 4,
 "nbformat_minor": 1
}
