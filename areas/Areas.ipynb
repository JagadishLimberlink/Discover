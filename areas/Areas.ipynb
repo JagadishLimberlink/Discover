{
 "cells": [
  {
   "cell_type": "markdown",
   "metadata": {},
   "source": [
    "## Problems on areas"
   ]
  },
  {
   "cell_type": "markdown",
   "metadata": {},
   "source": [
    "## Triangle in a triangle\n",
    "\n",
    "PQR is an equilateral triangle with area 1 sq.cm. Line segment AB connects the mid-points of the two sides of the triangle. What is the area of triangle ABQ?\n",
    "\n",
    "![](pics/alex_bellos_triangle_prob.jpeg)\n",
    "\n"
   ]
  },
  {
   "cell_type": "markdown",
   "metadata": {},
   "source": [
    "### Solution\n",
    "\n",
    "Let C be the midpoint of the side QR. Triangle ABC is an equilateral triangle whose side is half that of triangle PQR. Hence, the area of ABC is 1/4 sq. cm. Now consider triangles ABQ and ABC. Both of them have the share a common base AB and have the same height. Hence, ABQ's area is also 1/4 sq. cm.\n",
    "\n",
    "![](./pics/alex_bellos_triangle_sol.jpeg)\n",
    "\n"
   ]
  },
  {
   "cell_type": "markdown",
   "metadata": {},
   "source": [
    "### Touching Hexagons\n",
    "\n",
    "Three hexagons touch each other to form a right angle triangle in the middle. Let A,B and C denote the areas of the hexagons. How are A,B and C related?\n",
    "\n",
    "![Hexagons](pics/PythagoreanHexagons.png)\n"
   ]
  },
  {
   "cell_type": "markdown",
   "metadata": {},
   "source": [
    "### Solution\n",
    "\n",
    "The area of a hexagon with side $x$ is $\\frac{3\\sqrt{3}}{2} x^2$.\n",
    "\n",
    "Let a,b and c be the side lengths of hexagons with area A, B and C, respectively. We have\n",
    "\n",
    "$$ A = \\frac{3\\sqrt{3}}{2} a^2$$\n",
    "\n",
    "![](./pics/pythagoras_sol.png)\n",
    "\n",
    "\n"
   ]
  },
  {
   "cell_type": "markdown",
   "metadata": {},
   "source": [
    "### Touching semi-circles\n",
    "\n",
    "Each semi-circle has a radius of 1 cm. What is the area of the square contains the four semi-circles? \n",
    "\n",
    "![](./pics/alex_bellos_circle_capture_prob.jpg)\n"
   ]
  },
  {
   "cell_type": "markdown",
   "metadata": {},
   "source": [
    "### Hexagons\n",
    "\n",
    "![](pics/hexagon1.png)\n",
    "\n",
    "![](pics/hexagon2.png)\n"
   ]
  },
  {
   "cell_type": "markdown",
   "metadata": {
    "collapsed": true
   },
   "source": [
    "### Solution\n"
   ]
  },
  {
   "cell_type": "markdown",
   "metadata": {},
   "source": [
    "## Where is Kiyunga? \n",
    "\n",
    "![Where is Kiyunga?](pics/map.png)\n",
    "![Coverage](pics/slit.png)\n",
    "\n"
   ]
  },
  {
   "cell_type": "markdown",
   "metadata": {},
   "source": [
    "### Captured square\n",
    "\n",
    "In the figure shown below, find the area of the shaded square that is inside the larger square. The side of the larger square is 10 cm in length. Points A,B,C and D are the mid-points of their respective sides.\n",
    "\n",
    "![](./pics/captured_square_prob.jpg)\n",
    "\n",
    "\n"
   ]
  },
  {
   "cell_type": "markdown",
   "metadata": {},
   "source": [
    "### Rhombus\n",
    "\n",
    "![rhombus](pics/rhombus.png)\n",
    "\n",
    "\n"
   ]
  },
  {
   "cell_type": "markdown",
   "metadata": {},
   "source": [
    "### Solution\n",
    "\n"
   ]
  },
  {
   "cell_type": "markdown",
   "metadata": {},
   "source": [
    "### Trapezoid I\n",
    "\n",
    "![quad1](pics/quad_area1.png)\n",
    "        "
   ]
  },
  {
   "cell_type": "markdown",
   "metadata": {},
   "source": [
    "### Solution\n",
    "\n",
    "![quad2](./pics/quad_area2.png)"
   ]
  },
  {
   "cell_type": "markdown",
   "metadata": {
    "collapsed": true
   },
   "source": [
    "![](./pics/area_puzzle_guardian_1.jpeg)\n",
    "\n",
    "![](./pics/area_puzzle_guardian_sol_1.png)\n",
    "    \n",
    "\n",
    "![](./pics/area_puzzle_guardian_3.jpeg)\n"
   ]
  },
  {
   "cell_type": "markdown",
   "metadata": {
    "collapsed": true
   },
   "source": [
    "### Solution\n"
   ]
  },
  {
   "cell_type": "markdown",
   "metadata": {
    "collapsed": true
   },
   "source": [
    "### Trapezoid II\n",
    "\n",
    "![](pics/trapezoid.jpg)\n"
   ]
  },
  {
   "cell_type": "markdown",
   "metadata": {},
   "source": [
    "### Square Intersection\n",
    "\n",
    "Two squares one with side 6 cm and one with side 8 cm overlap as shown. A corner of the larger square coincides with the centre of the smaller square. The intersection area forms a quadrilateral whose vertial side is 4 cm. Find the area of the quadrilateral. \n",
    "\n",
    "![](pics/SquareIntersection.gif)"
   ]
  },
  {
   "cell_type": "markdown",
   "metadata": {},
   "source": [
    "### Solution\n",
    "\n",
    "![](pics/SquareIntersectionSol.gif)\n"
   ]
  }
 ],
 "metadata": {
  "kernelspec": {
   "display_name": "Python 2",
   "language": "python",
   "name": "python2"
  },
  "language_info": {
   "codemirror_mode": {
    "name": "ipython",
    "version": 2
   },
   "file_extension": ".py",
   "mimetype": "text/x-python",
   "name": "python",
   "nbconvert_exporter": "python",
   "pygments_lexer": "ipython2",
   "version": "2.7.12"
  }
 },
 "nbformat": 4,
 "nbformat_minor": 1
}
