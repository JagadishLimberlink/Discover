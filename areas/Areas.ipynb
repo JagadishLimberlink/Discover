{
 "cells": [
  {
   "cell_type": "markdown",
   "metadata": {},
   "source": [
    "## Problems on areas"
   ]
  },
  {
   "cell_type": "markdown",
   "metadata": {},
   "source": [
    "## Triangle in a triangle\n",
    "\n",
    "PQR is an equilateral triangle with area 1 sq.cm. Line segment AB connects the mid-points of the two sides of the triangle. What is the area of triangle ABQ?\n",
    "\n",
    "![](pics/alex_bellos_triangle_prob.jpeg)\n",
    "\n"
   ]
  },
  {
   "cell_type": "markdown",
   "metadata": {},
   "source": [
    "### Solution\n",
    "\n",
    "Let C be the midpoint of the side QR. Triangle ABC is an equilateral triangle whose side is half that of triangle PQR. Hence, the area of ABC is 1/4 sq. cm. Now consider triangles ABQ and ABC. Both of them have the share a common base AB and have the same height. Hence, ABQ's area is also 1/4 sq. cm.\n",
    "\n",
    "![](./pics/alex_bellos_triangle_sol.jpeg)\n",
    "\n"
   ]
  },
  {
   "cell_type": "markdown",
   "metadata": {},
   "source": [
    "### Touching Hexagons\n",
    "\n",
    "Three hexagons touch each other to form a right angle triangle in the middle. Let A, B and C denote the areas of the hexagons. How are A, B and C related?\n",
    "\n",
    "![Hexagons](pics/PythagoreanHexagons.png)\n"
   ]
  },
  {
   "cell_type": "markdown",
   "metadata": {},
   "source": [
    "### Solution\n",
    "\n",
    "The area of a hexagon with side $x$ is $\\frac{3\\sqrt{3}}{2} x^2$.\n",
    "\n",
    "Let a, b and c be the side lengths of hexagons with area A, B and C, respectively. We have\n",
    "\n",
    "$$ A = \\frac{3\\sqrt{3}}{2} a^2$$\n",
    "\n",
    "$$ B = \\frac{3\\sqrt{3}}{2} b^2$$\n",
    "\n",
    "$$ C = \\frac{3\\sqrt{3}}{2} c^2$$\n",
    "\n",
    "\n",
    "Sides a, b and c form a right angle triangle. By Pythagoras theorem, we have \n",
    "\n",
    "$$ a^2 + b^2 = c^2 $$\n",
    "\n",
    "Multiplying both sides by $\\frac{3\\sqrt{3}}{2}$ we get:\n",
    "\n",
    "$$ \\frac{3\\sqrt{3}}{2} a^2 + \\frac{3\\sqrt{3}}{2} b^2 = \\frac{3\\sqrt{3}}{2} c^2$$\n",
    "\n",
    "which gives:\n",
    "\n",
    "$$A + B = C $$\n",
    "\n",
    "\n",
    "The solution hints at a more general truth. It is common to illustrate Pythagoras theorem using squares as shown below. If A, B and C denote the areas of squares whose sides form a right angled triangle, then A+B=C holds. The statement is true for any object whose area is proportional to the square of the side. In case of squares, the proportionality constant is 1, in case of hexagons it is $\\frac{3\\sqrt{3}}{2}$, in case of semi-circles it is $\\frac{\\pi}{2}$. \n",
    "\n",
    "\n",
    "![](./pics/pythagoras_sol.png)\n",
    "\n",
    "\n"
   ]
  },
  {
   "cell_type": "markdown",
   "metadata": {},
   "source": [
    "### Touching semi-circles\n",
    "\n",
    "Each semi-circle has a radius of 1 cm. What is the area of the square containing the four semi-circles? \n",
    "\n",
    "![](./pics/alex_bellos_circle_capture_prob.jpg)\n"
   ]
  },
  {
   "cell_type": "markdown",
   "metadata": {},
   "source": [
    "### Solution\n",
    "\n",
    "Let us connect the two centers of two semi-circles as shown. By Pythagoras theorem:\n",
    "\n",
    "$$1^2 + x^2 = 2^2$$\n",
    "\n",
    "Hence, $x = \\sqrt{3}$. \n",
    "\n",
    "\n",
    "The side length of the square is $(1+x)$. Hence, it's area is $(1+x)^2 = 4+2\\sqrt{3}$\n",
    "\n",
    "![](./pics/alex_bellos_circle_capture_sol.jpg)\n",
    "\n",
    "\n"
   ]
  },
  {
   "cell_type": "markdown",
   "metadata": {},
   "source": [
    "### Hexagons\n",
    "\n",
    "What fraction of the hexagon is covered by the blue triangle in the first figure? Similarly, in the second figure, what fraction of the larger hexagon is covered by the blue hexagon?\n",
    "\n",
    "![](pics/hexagon_prob.png)\n",
    "    \n"
   ]
  },
  {
   "cell_type": "markdown",
   "metadata": {
    "collapsed": true
   },
   "source": [
    "### Solution\n",
    "\n",
    "Consider the gray shaded triangle as a `flap' attached to the blue triangle. If we fold the flap along the bold edge, we will cover 1/3 rd of the triangle. This means the triangle is three times bigger than one flap. Since there are three such flaps in the hexagon. The area covered by the blue triangle is half of the area of the hexagon.\n",
    "\n",
    "![](./pics/hexagon_sol2.png)\n",
    "\n",
    "\n",
    "For the second problem, we reuse the observation made in the first problem. Let us draw two lines from the center of the hexagon O to one of the edges BC. We observe that the shape ABOC is indentical to the shape we saw in the previous problem. We know that triangle BCO is 3/4th's the area of ABOC. The entire hexagon is made up of six copies of shape ABOC. Hence, the fraction of the blue region to the hexagon is 3/4. \n",
    "\n",
    "\n",
    "![](./pics/hexagon_sol1.png)\n",
    "    \n"
   ]
  },
  {
   "cell_type": "markdown",
   "metadata": {},
   "source": [
    "## Where is Kiyunga? \n",
    "\n",
    "![Where is Kiyunga?](pics/map.png)\n",
    "![Coverage](pics/slit.png)\n",
    "\n"
   ]
  },
  {
   "cell_type": "markdown",
   "metadata": {},
   "source": [
    "### Captured square\n",
    "\n",
    "In the figure shown below, find the area of the shaded square that is inside the larger square. The side of the larger square is 10 cm in length. Points A,B,C and D are the mid-points of their respective sides.\n",
    "\n",
    "![](./pics/captured_square_prob.jpg)\n",
    "\n",
    "\n"
   ]
  },
  {
   "cell_type": "markdown",
   "metadata": {},
   "source": [
    "### Solution\n",
    "\n",
    "Let us extend the lines as shown in the figure below. Imagine cutting triangle OBC from the square and pasting it as AOC'. We observe that a square AGCC' is formed $[*]$. Applying the same operation on all four sides shows the larger square can be rearranged as a collection of five identical smaller squares. The area of the outer square is 100 sq. cm. Hence, the area of the shaded square in the problem is 1/5x100=20 sq. cm.\n",
    "\n",
    "\n",
    "$[*]$ Although the shape AGCC' looks identical to the shaded square, we need to prove this claim. Consider similar triangles AGD and AFE. Point D is the mid-point of AE, so G is the mid point of AF. Hence AG=GF. Now consider similar triangles AGB and OCB. We have OB=1/2 AB, hence OC=1/2 AG. Since C' is point C reflected via point O, we have CC' = 2 OC' = AG. So the shape AGCC' is a square whose side has length same as GF.\n",
    "\n"
   ]
  },
  {
   "cell_type": "markdown",
   "metadata": {},
   "source": [
    "![](./pics/four_square_sol.png)"
   ]
  },
  {
   "cell_type": "markdown",
   "metadata": {},
   "source": [
    "### Rhombus\n",
    "\n",
    "Rhombus ABCD shown below has an area of 1 sq. cm. Points E and F are the mid-points of their respective sides. What is the area of triangle BEF?\n",
    "\n"
   ]
  },
  {
   "cell_type": "markdown",
   "metadata": {},
   "source": [
    "![rhombus](pics/rhombus.png)"
   ]
  },
  {
   "cell_type": "markdown",
   "metadata": {},
   "source": [
    "### Solution\n",
    "\n",
    "We solve the problem in two steps.\n",
    "\n",
    "Step 1. Firstly, we find the area of triangle DEF. Consider similar triangles DAC and DEF. DEF has 1/4th the area of triangle DAC. Since DAC=1/2 sq. cm, DEF is 1/8 sq. cm.\n",
    "\n",
    "Step 2. Now let us find the area of triangle EDB. Triangle ADB has area 1/2 sq. cm. Triangle EDB has 1/2 the base as as ADB but the same height. Hence, area of EDB is 1/4 sq. cm. By symmetry, triangle DBF also has 1/4 sq. cm. The quadrilateral BEDF has area 1/2 sq. cm. But BEF + DEF = BEDF. Hence, area of BEF = 1/2-1/8 = 3/8 sq. cm.\n",
    "\n",
    "\n"
   ]
  },
  {
   "cell_type": "markdown",
   "metadata": {},
   "source": [
    "### Trapezoid I\n",
    "\n",
    "Consider the figure shown below. Triangle EGC has an area of 24 sq. cm. The rest of the measurements are as denoted in the figure. Find the area of quadrilateral ABGF.\n",
    "\n",
    "![quad1](pics/quad_area1.png)\n",
    "        "
   ]
  },
  {
   "cell_type": "markdown",
   "metadata": {},
   "source": [
    "### Solution\n",
    "\n",
    "Triangles BCF and BCE have the same base BC and the same height BE. Hence, their areas are equal. BGC is the portion that is common to both. We have BGF + BGC = BGC + GEC (area-wise). Hence area of BGF is equal to the area of GEC which is 24 sq. cm. Quadrilateral ABGF is made up of triangles BGF and ABF. From the figure, it is clear that the are of ABF is 1/2x16x10=80 sq. cm. Hence, the area of ABGF is 80+24=104 sq. cm.\n",
    "\n",
    "\n",
    "![quad2](./pics/quad_area2.png)"
   ]
  },
  {
   "cell_type": "markdown",
   "metadata": {
    "collapsed": true
   },
   "source": [
    "### No fractions\n",
    "\n",
    "Consider the figure shown below. We wish to find the length of the side marked '?'. A moment's thought shows that it is not difficult to do so. Now consider the same problem, however this time we are not allowed to use any fractions in our calculations. Can we find the length with this restriction? \n",
    "\n",
    "![](./pics/area_puzzle_guardian_1.jpeg)\n",
    "\n",
    "Here is one possible way. First extend, the sides to make a rectangle S. The area of S is 20 sq. cm. Two rectangles with common side AB have an area of 36 sq. cm, so they must also have the same width. Hence, the length of '?' is 5 cm.\n",
    "\n",
    "![](./pics/area_puzzle_guardian_sol_1.png)\n",
    "    \n",
    "    \n",
    "Here is another puzzle of the same kind. Without using fractions, find the area of the shaded region.    \n",
    "\n",
    "![](./pics/area_puzzle_guardian_3.jpeg)\n"
   ]
  },
  {
   "cell_type": "markdown",
   "metadata": {},
   "source": [
    "### Solution\n",
    "\n",
    "Let AF denote the middle line segment. Letters from B to E denote the intersections of horizontal and vertical line segments. Recall that a diagonal of a rectangle uniquely determines the rectangle. The rectangle with AG as a diagonal has area 28 sq. cm. So the area of the rectangle with GC as the diagonal has area 10 sq. cm. Hence, the area of the rectangle with GE as the diagonal has area 49 sq. cm. So BE = 7 cm. \n"
   ]
  },
  {
   "cell_type": "markdown",
   "metadata": {
    "collapsed": true
   },
   "source": [
    "![](./pics/area_puzzle_guardian_3_sol.jpeg)"
   ]
  },
  {
   "cell_type": "markdown",
   "metadata": {},
   "source": [
    "### Square Intersection\n",
    "\n",
    "Two squares one with side 6 cm and one with side 8 cm overlap as shown. A corner of the larger square coincides with the centre of the smaller square. The intersection area forms a quadrilateral whose vertial side is 4 cm. Find the area of the quadrilateral. \n",
    "\n",
    "![](pics/SquareIntersection.gif)"
   ]
  },
  {
   "cell_type": "markdown",
   "metadata": {},
   "source": [
    "### Solution\n",
    "\n",
    "![](pics/SquareIntersectionSol.gif)\n"
   ]
  }
 ],
 "metadata": {
  "kernelspec": {
   "display_name": "Python 2",
   "language": "python",
   "name": "python2"
  },
  "language_info": {
   "codemirror_mode": {
    "name": "ipython",
    "version": 2
   },
   "file_extension": ".py",
   "mimetype": "text/x-python",
   "name": "python",
   "nbconvert_exporter": "python",
   "pygments_lexer": "ipython2",
   "version": "2.7.12"
  }
 },
 "nbformat": 4,
 "nbformat_minor": 1
}
