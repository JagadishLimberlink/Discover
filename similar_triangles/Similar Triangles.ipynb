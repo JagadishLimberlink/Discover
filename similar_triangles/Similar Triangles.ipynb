{
 "cells": [
  {
   "cell_type": "markdown",
   "metadata": {},
   "source": [
    "### Belt and pulley\n",
    "\n",
    "![](pics/belt_problem.png)\n",
    "\n"
   ]
  },
  {
   "cell_type": "markdown",
   "metadata": {},
   "source": [
    "### Solution\n",
    "\n"
   ]
  },
  {
   "cell_type": "markdown",
   "metadata": {},
   "source": [
    "### Back to back triangles\n",
    "\n",
    "![](pics/back_to_back_triangles.png)"
   ]
  },
  {
   "cell_type": "markdown",
   "metadata": {},
   "source": [
    "### Ladder Problem\n",
    "\n",
    "![](pics/cross_ladders.png)\n"
   ]
  },
  {
   "cell_type": "markdown",
   "metadata": {},
   "source": [
    "### Solution\n",
    "\n",
    "![](pics/cross_ladders_sol.png)"
   ]
  },
  {
   "cell_type": "markdown",
   "metadata": {},
   "source": [
    "### Quadrilateral inside a square\n",
    "\n",
    "![](pics/quad_inside_square.png)\n",
    "\n",
    "\n"
   ]
  },
  {
   "cell_type": "markdown",
   "metadata": {},
   "source": [
    "### Solution\n",
    "\n",
    "\n",
    "Triangles $IAB$ and $IMN$ are similar. \n",
    "\n",
    "\n",
    "\n",
    "![](pics/quad_inside_square_sol.png)\n",
    "\n",
    "\n",
    "Suppose the triangles have altitudes $x$ and $h$, respectively. Hence, we have:\n",
    "\n",
    "$$ \\frac{AB}{MN} = \\frac{x}{h} $$\n",
    "\n",
    "$AB=1$ and $MN=1/2$, so $x=2h$. \n",
    "\n",
    "\n",
    "Since $x+h=1/2$, we have $h=1/6$.\n",
    "\n",
    "\n",
    "The area of the triangle $IMN$ is $1/2\\times h \\times MN=1/24$  sq. units.\n",
    "\n",
    "\n",
    "The area of the shaded portion is therefore $1/12$ sq. units.\n"
   ]
  },
  {
   "cell_type": "markdown",
   "metadata": {},
   "source": [
    "### Trisection circle method\n",
    "\n",
    "\n",
    "![](pics/trisect_step1.png)\n",
    "![](pics/trisect_step2.png)\n",
    "![](pics/trisect_step3.png)\n",
    "\n",
    "\n"
   ]
  },
  {
   "cell_type": "markdown",
   "metadata": {},
   "source": [
    "### Solution\n",
    "\n",
    "![](pics/trisect_solution.png)"
   ]
  },
  {
   "cell_type": "markdown",
   "metadata": {},
   "source": [
    "### Largest rectangle in a triangle\n"
   ]
  },
  {
   "cell_type": "markdown",
   "metadata": {},
   "source": [
    "### Pythogoras by scaling\n",
    "\n",
    "\n",
    "![](pics/pythogoras_similar.jpg)\n",
    "    "
   ]
  },
  {
   "cell_type": "markdown",
   "metadata": {
    "collapsed": true
   },
   "source": [
    "### Equiable shapes\n",
    "\n",
    "A closed planar shape is said to be equiable if the numerical values\n",
    "of its perimeter and area are the same. For example, a square with side length 4 is\n",
    "equiable since its perimeter and area are both 16. Show that any closed shape in the\n",
    "plane can be stretched or shrunk to become equiable.\n",
    "\n",
    "Source: Wikipedia\n",
    "    "
   ]
  },
  {
   "cell_type": "markdown",
   "metadata": {},
   "source": [
    "### Cyclic points\n",
    "\n",
    "PA*PX = PB*PY\n",
    "\n",
    "![](pics/power_point.png)\n",
    "\n"
   ]
  },
  {
   "cell_type": "markdown",
   "metadata": {},
   "source": [
    "### Isoceles ratio\n",
    "\n",
    "![](pics/isoceles_ratio.png)\n",
    "\n",
    "    \n",
    "    \n",
    "    "
   ]
  },
  {
   "cell_type": "markdown",
   "metadata": {},
   "source": [
    "### Paper fold\n",
    "\n",
    "%% Nick's puzzle #1"
   ]
  },
  {
   "cell_type": "markdown",
   "metadata": {
    "collapsed": true
   },
   "source": [
    "### Boat upstream down stream\n",
    "\n",
    "https://twitter.com/ngkabra/status/969436520363982849\n",
    "    "
   ]
  },
  {
   "cell_type": "code",
   "execution_count": null,
   "metadata": {
    "collapsed": true
   },
   "outputs": [],
   "source": []
  }
 ],
 "metadata": {
  "kernelspec": {
   "display_name": "Python 2",
   "language": "python",
   "name": "python2"
  },
  "language_info": {
   "codemirror_mode": {
    "name": "ipython",
    "version": 2
   },
   "file_extension": ".py",
   "mimetype": "text/x-python",
   "name": "python",
   "nbconvert_exporter": "python",
   "pygments_lexer": "ipython2",
   "version": "2.7.12"
  }
 },
 "nbformat": 4,
 "nbformat_minor": 1
}
